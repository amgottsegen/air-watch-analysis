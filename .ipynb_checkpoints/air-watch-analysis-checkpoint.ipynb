{
 "cells": [
  {
   "cell_type": "code",
   "execution_count": 1,
   "metadata": {
    "collapsed": false
   },
   "outputs": [],
   "source": [
    "import numpy as np\n",
    "import pandas as pd\n",
    "import datetime, pytz, calendar, urllib2, json"
   ]
  },
  {
   "cell_type": "code",
   "execution_count": 2,
   "metadata": {
    "collapsed": true
   },
   "outputs": [],
   "source": [
    "target_channels = [\"Benzene\",\"Toluene\",\"Xylene\",\"Hydrogen_Sulfide\",\"m_p_Xylene\",\n",
    "                   \"o_Xylene\",\"Black_Carbon\", \"Ethylbenzene\",\"Sulfur_Dioxide\",\"voc\",\"dust\"]"
   ]
  },
  {
   "cell_type": "code",
   "execution_count": 39,
   "metadata": {
    "collapsed": false
   },
   "outputs": [],
   "source": [
    "def exec_ipynb(url):\n",
    "    import json, re, urllib2\n",
    "    nb = (urllib2.urlopen(url) if re.match(r'https?:', url) else open(url)).read()\n",
    "    jsonNb = json.loads(nb)\n",
    "    #check for the modified formatting of Jupyter Notebook v4\n",
    "    if(jsonNb['nbformat'] == 4):\n",
    "        exec '\\n'.join([''.join(cell['source']) for cell in jsonNb['cells'] if cell['cell_type'] == 'code']) in globals()\n",
    "    else:\n",
    "        exec '\\n'.join([''.join(cell['input']) for cell in jsonNb['worksheets'][0]['cells'] if cell['cell_type'] == 'code']) in globals()\n",
    "\n",
    "exec_ipynb('python-utils/esdr-library.ipynb')"
   ]
  },
  {
   "cell_type": "code",
   "execution_count": 3,
   "metadata": {
    "collapsed": false
   },
   "outputs": [],
   "source": [
    "#returns start and end timestamps of provided date\n",
    "def getEpochTimeBounds(d, duration):\n",
    "    pacific = pytz.timezone(\"US/Pacific\")\n",
    "    dt = pacific.localize(datetime.datetime(d.year,d.month,d.day))\n",
    "\n",
    "    start = calendar.timegm(dt.utctimetuple())\n",
    "    end = calendar.timegm((dt + datetime.timedelta(days=duration)).utctimetuple())\n",
    "    return {'start' : start, 'end': end}\n",
    "#getEpochTimeBounds(datetime.date(2017,2,1))"
   ]
  },
  {
   "cell_type": "code",
   "execution_count": 83,
   "metadata": {
    "collapsed": false
   },
   "outputs": [],
   "source": [
    "def makeDataFrameFromEsdr(feed, channel, timeOptions={}):\n",
    "    if timeOptions.get('bounds') == None:\n",
    "        duration = timeOptions.get('duration') or 1\n",
    "        bounds = getEpochTimeBounds(timeOptions.get('day'), duration)\n",
    "    else:\n",
    "        bounds = timeOptions.get('bounds')\n",
    "    url = \"https://esdr.cmucreatelab.org/api/v1/feeds/%s/channels/%s/export?from=%s&to=%s&format=json\" % (feed, channel, bounds['start'], bounds['end'])\n",
    "    try:\n",
    "        r = json.loads(urllib2.urlopen(url).read())\n",
    "        print \"loaded \" + str(len(r['data'])) + \" data points for feed \" + feed + \", channel \" + channel + \", time \" + str(bounds['start'])\n",
    "    except:\n",
    "        print \"error loading data from ESDR: feed \" + feed + \", channel \" + channel + \", time \" + str(bounds['start'])\n",
    "    cols = [name.split('.')[2] for name in r['channel_names']]\n",
    "    cols.insert(0,'Time')\n",
    "    df = pd.DataFrame(r[\"data\"],columns=cols).set_index(['Time'])\n",
    "    return df\n",
    "#df = makeDataFrameFromEsdr(\"4910\",\"Benzene\",{'day':datetime.date(2017,2,1)})"
   ]
  },
  {
   "cell_type": "code",
   "execution_count": 118,
   "metadata": {
    "collapsed": false
   },
   "outputs": [
    {
     "name": "stdout",
     "output_type": "stream",
     "text": [
      "loaded 47 data points for feed 4910, channel Wind_Direction,Wind_Speed_MPH, time 1485943440\n",
      "The max hourly average is 2.84042553191 and the prevailing wind direction was towards SE\n"
     ]
    }
   ],
   "source": [
    "def maxHourlyAverage(df):\n",
    "    def avg(x, delta):\n",
    "        ser = df.iloc[(df.index >= x - delta) & (df.index <= x + delta), 0]\n",
    "        return ser.mean()\n",
    "    \n",
    "    healthLimit = 1\n",
    "    df['avg'] = pd.Series(data = df.index, index = df.index).apply(lambda x: avg(x,delta=1800))\n",
    "    maxAvg = df.nlargest(1,'avg')\n",
    "    \n",
    "    #get wind data for hour with highest average\n",
    "    bounds = {'start':maxAvg.index[0] - 1800,'end':maxAvg.index[0] + 1800}\n",
    "    wind = makeDataFrameFromEsdr(\"4910\",\"Wind_Direction,Wind_Speed_MPH\",{'bounds':bounds})\n",
    "    \n",
    "    #break into quadrants and select the prevailing one\n",
    "    quads = [0,90,180,270,360]\n",
    "    quad_names = ['NE','SE','SW','NW']\n",
    "    wind['Compass_Dir'] = pd.cut(wind['Wind_Direction'],quads,labels=quad_names)\n",
    "    direction = wind.groupby('Compass_Dir').sum().nlargest(1,'Wind_Speed_MPH').index[0]\n",
    "    print \"The max hourly average is \" + str(maxAvg.avg.item()) + \" and the prevailing wind direction was towards \" + direction\n",
    "maxHourlyAverage(df)\n",
    "#pd.value_counts(wind['Compass_Dir'])\n",
    "#sort into 4 groups by quadrant; quadrant with the most values is what ill display? should I also factor in wind speed? (quadrant with the highest sum of speeds?)\n",
    "#wind\n",
    "#df.sort_values('avg',ascending=False)\n",
    "#df2.loc[df2['avg'] > 1].apply(lambda x: df.loc[(df.index >= x -  )])"
   ]
  },
  {
   "cell_type": "code",
   "execution_count": 16,
   "metadata": {
    "collapsed": false
   },
   "outputs": [
    {
     "data": {
      "text/plain": [
       "0.5268156021050452"
      ]
     },
     "execution_count": 16,
     "metadata": {},
     "output_type": "execute_result"
    }
   ],
   "source": [
    "def calcDailyMean(df, nd=0):\n",
    "    if nd == 0:\n",
    "        return df['val'].mean()\n",
    "    else:\n",
    "        #substitute readings of 0 for the passed-in non-detect value\n",
    "        #(which should represent that chemicals' detection limit)\n",
    "        return df.replace(0.0,nd)['val'].mean()\n",
    "calcDailyMean(df,0.5)"
   ]
  },
  {
   "cell_type": "code",
   "execution_count": 9,
   "metadata": {
    "collapsed": false
   },
   "outputs": [
    {
     "data": {
      "text/plain": [
       "8.4"
      ]
     },
     "execution_count": 9,
     "metadata": {},
     "output_type": "execute_result"
    }
   ],
   "source": [
    "#total time, in hours, that a detection was present of given chemical or aggregated set of chemicals\n",
    "def calcHoursDetected(df):\n",
    "    detected = df.loc[df['val'] > 0, ['val']]\n",
    "    return len(detected) / float(60) #each reading represents 1 minute\n",
    "calcHoursDetected(df)"
   ]
  },
  {
   "cell_type": "code",
   "execution_count": 13,
   "metadata": {
    "collapsed": false
   },
   "outputs": [
    {
     "data": {
      "text/plain": [
       "2.683333333333333"
      ]
     },
     "execution_count": 13,
     "metadata": {},
     "output_type": "execute_result"
    }
   ],
   "source": [
    "#total time, in hours, that detection was greater than health threshold of given chemical\n",
    "def calcHoursAboveHealthLimit(df, limit):\n",
    "    detected = df.loc[df['val'] > limit, ['val']]\n",
    "    return len(detected) / float(60) #each reading represents 1 minute\n",
    "calcHoursAboveHealthLimit(df,1)"
   ]
  },
  {
   "cell_type": "code",
   "execution_count": 12,
   "metadata": {
    "collapsed": false
   },
   "outputs": [
    {
     "data": {
      "text/plain": [
       "504"
      ]
     },
     "execution_count": 12,
     "metadata": {},
     "output_type": "execute_result"
    }
   ],
   "source": [
    "detected = df.loc[df['val'] > 0, ['val']]\n",
    "len(detected)"
   ]
  },
  {
   "cell_type": "code",
   "execution_count": 42,
   "metadata": {
    "collapsed": false
   },
   "outputs": [],
   "source": [
    "df2 = set()\n",
    "delta = 1800\n",
    "x = 1486021320\n",
    "ser = df.loc[(df.index >= x - delta) & (df.index <= x + delta)]\n",
    "#pd.merge(ser, df2, how='outer')\n",
    "#set(ser.index).union(df2)"
   ]
  }
 ],
 "metadata": {
  "anaconda-cloud": {},
  "kernelspec": {
   "display_name": "Python [default]",
   "language": "python",
   "name": "python2"
  },
  "language_info": {
   "codemirror_mode": {
    "name": "ipython",
    "version": 2
   },
   "file_extension": ".py",
   "mimetype": "text/x-python",
   "name": "python",
   "nbconvert_exporter": "python",
   "pygments_lexer": "ipython2",
   "version": "2.7.12"
  }
 },
 "nbformat": 4,
 "nbformat_minor": 1
}
