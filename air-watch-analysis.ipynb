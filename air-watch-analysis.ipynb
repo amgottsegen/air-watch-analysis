{
 "cells": [
  {
   "cell_type": "code",
   "execution_count": 1,
   "metadata": {
    "collapsed": false
   },
   "outputs": [],
   "source": [
    "import numpy as np\n",
    "import pandas as pd\n",
    "import datetime, pytz, calendar, urllib2, json"
   ]
  },
  {
   "cell_type": "code",
   "execution_count": 2,
   "metadata": {
    "collapsed": true
   },
   "outputs": [],
   "source": [
    "target_channels = [\"Benzene\",\"Toluene\",\"Xylene\",\"Hydrogen_Sulfide\",\"m_p_Xylene\",\n",
    "                   \"o_Xylene\",\"Black_Carbon\", \"Ethylbenzene\",\"Sulfur_Dioxide\",\"voc\",\"dust\"]"
   ]
  },
  {
   "cell_type": "code",
   "execution_count": 14,
   "metadata": {
    "collapsed": true
   },
   "outputs": [],
   "source": [
    "def dateTimeToPacific(dt):\n",
    "    pacific = pytz.timezone(\"US/Pacific\")\n",
    "    dt = pacific.localize(dt)\n",
    "    return dt"
   ]
  },
  {
   "cell_type": "code",
   "execution_count": 45,
   "metadata": {
    "collapsed": false
   },
   "outputs": [
    {
     "data": {
      "text/plain": [
       "{'end': 1486022400, 'start': 1485936000}"
      ]
     },
     "execution_count": 45,
     "metadata": {},
     "output_type": "execute_result"
    }
   ],
   "source": [
    "#returns start and end timestamps of provided date\n",
    "def getEpochTimeBounds(d, duration=1):\n",
    "    dt = dateTimeToPacific(datetime.datetime(d.year,d.month,d.day))\n",
    "\n",
    "    start = calendar.timegm(dt.utctimetuple())\n",
    "    end = calendar.timegm((dt + datetime.timedelta(days=duration)).utctimetuple())\n",
    "    return {'start' : start, 'end': end}\n",
    "getEpochTimeBounds(datetime.date(2017,2,1))"
   ]
  },
  {
   "cell_type": "code",
   "execution_count": 92,
   "metadata": {
    "collapsed": false
   },
   "outputs": [
    {
     "name": "stdout",
     "output_type": "stream",
     "text": [
      "loaded 1338 data points for feed 4914, channel Benzene, time 1485936000\n"
     ]
    },
    {
     "data": {
      "text/plain": [
       "1487274113"
      ]
     },
     "execution_count": 92,
     "metadata": {},
     "output_type": "execute_result"
    }
   ],
   "source": [
    "def makeDataFrameFromEsdr(feed, channel, timeOptions={}):\n",
    "    if timeOptions.get('bounds') == None:\n",
    "        duration = timeOptions.get('duration') or 1\n",
    "        bounds = getEpochTimeBounds(timeOptions.get('day'), duration)\n",
    "    else:\n",
    "        bounds = timeOptions.get('bounds')\n",
    "    url = \"https://esdr.cmucreatelab.org/api/v1/feeds/%s/channels/%s/export?from=%s&to=%s&format=json\" % (feed, channel, bounds['start'], bounds['end'])\n",
    "    try:\n",
    "        r = json.loads(urllib2.urlopen(url).read())\n",
    "        print \"loaded \" + str(len(r['data'])) + \" data points for feed \" + feed + \", channel \" + channel + \", time \" + str(bounds['start'])\n",
    "    except:\n",
    "        print \"error loading data from ESDR: feed \" + feed + \", channel \" + channel + \", time \" + str(bounds['start'])\n",
    "    cols = [name.split('.')[2] for name in r['channel_names']]\n",
    "    cols.insert(0,'Time')\n",
    "    df = pd.DataFrame(r[\"data\"],columns=cols).set_index(['Time'])\n",
    "    return df\n",
    "df = makeDataFrameFromEsdr(\"4914\",\"Benzene\",{'day':datetime.date(2017,2,1)})\n",
    "1487274113"
   ]
  },
  {
   "cell_type": "code",
   "execution_count": 83,
   "metadata": {
    "collapsed": false
   },
   "outputs": [
    {
     "name": "stdout",
     "output_type": "stream",
     "text": [
      "loaded 53 data points for feed 4914, channel Wind_Direction,Wind_Speed_MPH, time 1485966000\n",
      "The max hourly average was 1.19320754717 from 04:20PM to 05:20PM and the prevailing wind direction was towards NW\n"
     ]
    },
    {
     "data": {
      "text/html": [
       "<div>\n",
       "<table border=\"1\" class=\"dataframe\">\n",
       "  <thead>\n",
       "    <tr style=\"text-align: right;\">\n",
       "      <th></th>\n",
       "      <th>Benzene</th>\n",
       "      <th>avg</th>\n",
       "    </tr>\n",
       "    <tr>\n",
       "      <th>Time</th>\n",
       "      <th></th>\n",
       "      <th></th>\n",
       "    </tr>\n",
       "  </thead>\n",
       "  <tbody>\n",
       "    <tr>\n",
       "      <th>1485967800</th>\n",
       "      <td>1.26</td>\n",
       "      <td>1.193208</td>\n",
       "    </tr>\n",
       "  </tbody>\n",
       "</table>\n",
       "</div>"
      ],
      "text/plain": [
       "            Benzene       avg\n",
       "Time                         \n",
       "1485967800     1.26  1.193208"
      ]
     },
     "execution_count": 83,
     "metadata": {},
     "output_type": "execute_result"
    }
   ],
   "source": [
    "def maxHourlyAverage(df, feed):\n",
    "    def avg(x, delta):\n",
    "        ser = df.iloc[(df.index >= x - delta) & (df.index <= x + delta), 0]\n",
    "        return ser.mean()\n",
    "    \n",
    "    healthLimit = 1\n",
    "    df['avg'] = pd.Series(data = df.index, index = df.index).apply(lambda x: avg(x,delta=1800))\n",
    "    maxAvg = df.nlargest(1,'avg')\n",
    "    \n",
    "    halfHourInSecs = 30 * 60\n",
    "    hourStart = dateTimeToPacific(datetime.datetime.utcfromtimestamp(maxAvg.index[0] - halfHourInSecs)).strftime('%I:%M%p')\n",
    "    hourEnd = dateTimeToPacific(datetime.datetime.utcfromtimestamp(maxAvg.index[0] + halfHourInSecs)).strftime('%I:%M%p')\n",
    "    \n",
    "    #get wind data for hour with highest average\n",
    "    bounds = {'start':maxAvg.index[0] - 1800,'end':maxAvg.index[0] + 1800}\n",
    "    wind = makeDataFrameFromEsdr(feed,\"Wind_Direction,Wind_Speed_MPH\",{'bounds':bounds})\n",
    "    \n",
    "    #break into quadrants and select the prevailing one\n",
    "    quads = [0,90,180,270,360]\n",
    "    quad_names = ['NE','SE','SW','NW']\n",
    "    wind['Compass_Dir'] = pd.cut(wind['Wind_Direction'],quads,labels=quad_names)\n",
    "    direction = wind.groupby('Compass_Dir').sum().nlargest(1,'Wind_Speed_MPH').index[0]\n",
    "    print \"The max hourly average was \" + str(maxAvg.avg.item()) + \" from \" + hourStart + \" to \" + hourEnd +\" and the prevailing wind direction was towards \" + direction\n",
    "    return maxAvg\n",
    "maxHourlyAverage(df, \"4914\")\n",
    "#pd.value_counts(wind['Compass_Dir'])\n",
    "#sort into 4 groups by quadrant; quadrant with the most values is what ill display? should I also factor in wind speed? (quadrant with the highest sum of speeds?)\n",
    "#wind\n",
    "#df.sort_values('avg',ascending=False)\n",
    "#df2.loc[df2['avg'] > 1].apply(lambda x: df.loc[(df.index >= x -  )])"
   ]
  },
  {
   "cell_type": "code",
   "execution_count": 75,
   "metadata": {
    "collapsed": false
   },
   "outputs": [],
   "source": [
    "##dateTimeToPacific(datetime.datetime.utcfromtimestamp(1485965400 + (30*60))).s\n",
    "#pacific = pytz.timezone(\"US/Pacific\")\n",
    "#pacific.astimezone(datetime.datetime.utcfromtimestamp(1485965400 + (30*60)))\n"
   ]
  },
  {
   "cell_type": "code",
   "execution_count": 93,
   "metadata": {
    "collapsed": false
   },
   "outputs": [
    {
     "data": {
      "text/plain": [
       "0.562167414050822"
      ]
     },
     "execution_count": 93,
     "metadata": {},
     "output_type": "execute_result"
    }
   ],
   "source": [
    "def calcDailyMean(df, chemical, nd=0):\n",
    "    if nd == 0:\n",
    "        return df[chemical].mean()\n",
    "    else:\n",
    "        #substitute readings of 0 for the passed-in non-detect value\n",
    "        #(which should represent that chemicals' detection limit)\n",
    "        return df.replace(0.0,nd)[chemical].mean()\n",
    "calcDailyMean(df,\"Benzene\", 0.5)"
   ]
  },
  {
   "cell_type": "code",
   "execution_count": 87,
   "metadata": {
    "collapsed": false
   },
   "outputs": [
    {
     "data": {
      "text/plain": [
       "4.883333333333334"
      ]
     },
     "execution_count": 87,
     "metadata": {},
     "output_type": "execute_result"
    }
   ],
   "source": [
    "#total time, in hours, that a detection was present of given chemical or aggregated set of chemicals\n",
    "def calcHoursDetected(df, chemical):\n",
    "    detected = df.loc[df[chemical] > 0, [chemical]]\n",
    "    return len(detected) / float(60) #each reading represents 1 minute\n",
    "calcHoursDetected(df, \"Benzene\")"
   ]
  },
  {
   "cell_type": "code",
   "execution_count": 88,
   "metadata": {
    "collapsed": false
   },
   "outputs": [
    {
     "data": {
      "text/plain": [
       "1.3166666666666667"
      ]
     },
     "execution_count": 88,
     "metadata": {},
     "output_type": "execute_result"
    }
   ],
   "source": [
    "#total time, in hours, that detection was greater than health threshold of given chemical\n",
    "def calcHoursAboveHealthLimit(df, chemical, limit):\n",
    "    detected = df.loc[df[chemical] > limit, [chemical]]\n",
    "    return len(detected) / float(60) #each reading represents 1 minute\n",
    "calcHoursAboveHealthLimit(df, \"Benzene\", 1)"
   ]
  },
  {
   "cell_type": "code",
   "execution_count": 12,
   "metadata": {
    "collapsed": false
   },
   "outputs": [
    {
     "data": {
      "text/plain": [
       "504"
      ]
     },
     "execution_count": 12,
     "metadata": {},
     "output_type": "execute_result"
    }
   ],
   "source": [
    "detected = df.loc[df['val'] > 0, ['val']]\n",
    "len(detected)"
   ]
  },
  {
   "cell_type": "code",
   "execution_count": 42,
   "metadata": {
    "collapsed": false
   },
   "outputs": [],
   "source": [
    "df2 = set()\n",
    "delta = 1800\n",
    "x = 1486021320\n",
    "ser = df.loc[(df.index >= x - delta) & (df.index <= x + delta)]\n",
    "#pd.merge(ser, df2, how='outer')\n",
    "#set(ser.index).union(df2)"
   ]
  }
 ],
 "metadata": {
  "anaconda-cloud": {},
  "kernelspec": {
   "display_name": "Python [default]",
   "language": "python",
   "name": "python2"
  },
  "language_info": {
   "codemirror_mode": {
    "name": "ipython",
    "version": 2
   },
   "file_extension": ".py",
   "mimetype": "text/x-python",
   "name": "python",
   "nbconvert_exporter": "python",
   "pygments_lexer": "ipython2",
   "version": "2.7.12"
  }
 },
 "nbformat": 4,
 "nbformat_minor": 1
}
